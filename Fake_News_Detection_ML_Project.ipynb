{
  "nbformat": 4,
  "nbformat_minor": 0,
  "metadata": {
    "colab": {
      "provenance": [],
      "collapsed_sections": [
        "Lg9Ssh76mM4C",
        "BCSxnzHf4hoC",
        "1MDxH9ktlrOt"
      ],
      "toc_visible": true
    },
    "kernelspec": {
      "name": "python3",
      "display_name": "Python 3"
    },
    "language_info": {
      "name": "python"
    }
  },
  "cells": [
    {
      "cell_type": "markdown",
      "source": [
        "## 1. Importing Liabraries"
      ],
      "metadata": {
        "id": "Lg9Ssh76mM4C"
      }
    },
    {
      "cell_type": "code",
      "source": [
        "# Data Processing\n",
        "import pandas as pd\n",
        "import numpy as np\n",
        "import matplotlib.pyplot as plt\n",
        "import csv\n",
        "\n",
        "# Data Analytics\n",
        "import re\n",
        "from collections import Counter\n",
        "import nltk\n",
        "from nltk.corpus import stopwords\n",
        "\n",
        "# Neural Networks\n",
        "from nltk.stem import WordNetLemmatizer\n",
        "import tensorflow as tf\n",
        "from sklearn.model_selection import train_test_split\n",
        "from sklearn.feature_extraction.text import TfidfVectorizer\n",
        "import tensorflow.keras.preprocessing.text as kpt\n",
        "from tensorflow.keras.preprocessing.text import Tokenizer\n",
        "from sklearn import metrics\n",
        "import itertools\n",
        "nltk.download('punkt')\n",
        "nltk.download('wordnet')\n",
        "nltk.download('stopwords')\n",
        "import sklearn\n",
        "import seaborn as sns"
      ],
      "metadata": {
        "colab": {
          "base_uri": "https://localhost:8080/"
        },
        "id": "xsb4rGHRmJUA",
        "outputId": "5799967c-c96d-468d-c3f3-914731162974"
      },
      "execution_count": null,
      "outputs": [
        {
          "output_type": "stream",
          "name": "stderr",
          "text": [
            "[nltk_data] Downloading package punkt to /root/nltk_data...\n",
            "[nltk_data]   Package punkt is already up-to-date!\n",
            "[nltk_data] Downloading package wordnet to /root/nltk_data...\n",
            "[nltk_data]   Package wordnet is already up-to-date!\n",
            "[nltk_data] Downloading package stopwords to /root/nltk_data...\n",
            "[nltk_data]   Package stopwords is already up-to-date!\n"
          ]
        }
      ]
    },
    {
      "cell_type": "markdown",
      "source": [
        "---\n",
        "---"
      ],
      "metadata": {
        "id": "_JRSME5zqMYh"
      }
    },
    {
      "cell_type": "markdown",
      "source": [
        "# 2. Dataset Cleaning"
      ],
      "metadata": {
        "id": "BCSxnzHf4hoC"
      }
    },
    {
      "cell_type": "markdown",
      "source": [
        "## Importing Datasets"
      ],
      "metadata": {
        "id": "I90c09A6Fgcp"
      }
    },
    {
      "cell_type": "code",
      "source": [
        "import pandas as pd\n",
        "import numpy as np\n",
        "\n",
        "# Import Datasets\n",
        "df1 = pd.read_csv(\"Dataset1.csv\", header=None)\n",
        "df2 = pd.read_csv(\"Dataset2.csv\", header=None)"
      ],
      "metadata": {
        "id": "kYzZJPubFETC"
      },
      "execution_count": null,
      "outputs": []
    },
    {
      "cell_type": "markdown",
      "source": [
        "## Droping Rows with Duplicate or NaN Data"
      ],
      "metadata": {
        "id": "v2nutlJzF5OM"
      }
    },
    {
      "cell_type": "code",
      "source": [
        "# Drop Duplicates\n",
        "df1.drop_duplicates(inplace=True)\n",
        "df2.drop_duplicates(inplace=True)\n",
        "\n",
        "# Drop NaN values\n",
        "df1.dropna()\n",
        "df2.dropna()"
      ],
      "metadata": {
        "colab": {
          "base_uri": "https://localhost:8080/",
          "height": 424
        },
        "id": "p30aWtG-F_vN",
        "outputId": "d7d3f091-58a7-4014-893d-cc704622c795"
      },
      "execution_count": null,
      "outputs": [
        {
          "output_type": "execute_result",
          "data": {
            "text/plain": [
              "            0                                                  1  \\\n",
              "1      8476.0                       You Can Smell Hillary’s Fear   \n",
              "2     10294.0  Watch The Exact Moment Paul Ryan Committed Pol...   \n",
              "3      3608.0        Kerry to go to Paris in gesture of sympathy   \n",
              "4     10142.0  Bernie supporters on Twitter erupt in anger ag...   \n",
              "5       875.0   The Battle of New York: Why This Primary Matters   \n",
              "...       ...                                                ...   \n",
              "6331   4490.0  State Department says it can't find emails fro...   \n",
              "6332   8062.0  The ‘P’ in PBS Should Stand for ‘Plutocratic’ ...   \n",
              "6333   8622.0  Anti-Trump Protesters Are Tools of the Oligarc...   \n",
              "6334   4021.0  In Ethiopia, Obama seeks progress on peace, se...   \n",
              "6335   4330.0  Jeb Bush Is Suddenly Attacking Trump. Here's W...   \n",
              "\n",
              "                                                      2     3  \n",
              "1     Daniel Greenfield, a Shillman Journalism Fello...  FAKE  \n",
              "2     Google Pinterest Digg Linkedin Reddit Stumbleu...  FAKE  \n",
              "3     U.S. Secretary of State John F. Kerry said Mon...  REAL  \n",
              "4     — Kaydee King (@KaydeeKing) November 9, 2016 T...  FAKE  \n",
              "5     It's primary day in New York and front-runners...  REAL  \n",
              "...                                                 ...   ...  \n",
              "6331  The State Department told the Republican Natio...  REAL  \n",
              "6332  The ‘P’ in PBS Should Stand for ‘Plutocratic’ ...  FAKE  \n",
              "6333   Anti-Trump Protesters Are Tools of the Oligar...  FAKE  \n",
              "6334  ADDIS ABABA, Ethiopia —President Obama convene...  REAL  \n",
              "6335  Jeb Bush Is Suddenly Attacking Trump. Here's W...  REAL  \n",
              "\n",
              "[6294 rows x 4 columns]"
            ],
            "text/html": [
              "\n",
              "  <div id=\"df-1d99f35d-1da3-4540-9fd3-1462ae167c1d\" class=\"colab-df-container\">\n",
              "    <div>\n",
              "<style scoped>\n",
              "    .dataframe tbody tr th:only-of-type {\n",
              "        vertical-align: middle;\n",
              "    }\n",
              "\n",
              "    .dataframe tbody tr th {\n",
              "        vertical-align: top;\n",
              "    }\n",
              "\n",
              "    .dataframe thead th {\n",
              "        text-align: right;\n",
              "    }\n",
              "</style>\n",
              "<table border=\"1\" class=\"dataframe\">\n",
              "  <thead>\n",
              "    <tr style=\"text-align: right;\">\n",
              "      <th></th>\n",
              "      <th>0</th>\n",
              "      <th>1</th>\n",
              "      <th>2</th>\n",
              "      <th>3</th>\n",
              "    </tr>\n",
              "  </thead>\n",
              "  <tbody>\n",
              "    <tr>\n",
              "      <th>1</th>\n",
              "      <td>8476.0</td>\n",
              "      <td>You Can Smell Hillary’s Fear</td>\n",
              "      <td>Daniel Greenfield, a Shillman Journalism Fello...</td>\n",
              "      <td>FAKE</td>\n",
              "    </tr>\n",
              "    <tr>\n",
              "      <th>2</th>\n",
              "      <td>10294.0</td>\n",
              "      <td>Watch The Exact Moment Paul Ryan Committed Pol...</td>\n",
              "      <td>Google Pinterest Digg Linkedin Reddit Stumbleu...</td>\n",
              "      <td>FAKE</td>\n",
              "    </tr>\n",
              "    <tr>\n",
              "      <th>3</th>\n",
              "      <td>3608.0</td>\n",
              "      <td>Kerry to go to Paris in gesture of sympathy</td>\n",
              "      <td>U.S. Secretary of State John F. Kerry said Mon...</td>\n",
              "      <td>REAL</td>\n",
              "    </tr>\n",
              "    <tr>\n",
              "      <th>4</th>\n",
              "      <td>10142.0</td>\n",
              "      <td>Bernie supporters on Twitter erupt in anger ag...</td>\n",
              "      <td>— Kaydee King (@KaydeeKing) November 9, 2016 T...</td>\n",
              "      <td>FAKE</td>\n",
              "    </tr>\n",
              "    <tr>\n",
              "      <th>5</th>\n",
              "      <td>875.0</td>\n",
              "      <td>The Battle of New York: Why This Primary Matters</td>\n",
              "      <td>It's primary day in New York and front-runners...</td>\n",
              "      <td>REAL</td>\n",
              "    </tr>\n",
              "    <tr>\n",
              "      <th>...</th>\n",
              "      <td>...</td>\n",
              "      <td>...</td>\n",
              "      <td>...</td>\n",
              "      <td>...</td>\n",
              "    </tr>\n",
              "    <tr>\n",
              "      <th>6331</th>\n",
              "      <td>4490.0</td>\n",
              "      <td>State Department says it can't find emails fro...</td>\n",
              "      <td>The State Department told the Republican Natio...</td>\n",
              "      <td>REAL</td>\n",
              "    </tr>\n",
              "    <tr>\n",
              "      <th>6332</th>\n",
              "      <td>8062.0</td>\n",
              "      <td>The ‘P’ in PBS Should Stand for ‘Plutocratic’ ...</td>\n",
              "      <td>The ‘P’ in PBS Should Stand for ‘Plutocratic’ ...</td>\n",
              "      <td>FAKE</td>\n",
              "    </tr>\n",
              "    <tr>\n",
              "      <th>6333</th>\n",
              "      <td>8622.0</td>\n",
              "      <td>Anti-Trump Protesters Are Tools of the Oligarc...</td>\n",
              "      <td>Anti-Trump Protesters Are Tools of the Oligar...</td>\n",
              "      <td>FAKE</td>\n",
              "    </tr>\n",
              "    <tr>\n",
              "      <th>6334</th>\n",
              "      <td>4021.0</td>\n",
              "      <td>In Ethiopia, Obama seeks progress on peace, se...</td>\n",
              "      <td>ADDIS ABABA, Ethiopia —President Obama convene...</td>\n",
              "      <td>REAL</td>\n",
              "    </tr>\n",
              "    <tr>\n",
              "      <th>6335</th>\n",
              "      <td>4330.0</td>\n",
              "      <td>Jeb Bush Is Suddenly Attacking Trump. Here's W...</td>\n",
              "      <td>Jeb Bush Is Suddenly Attacking Trump. Here's W...</td>\n",
              "      <td>REAL</td>\n",
              "    </tr>\n",
              "  </tbody>\n",
              "</table>\n",
              "<p>6294 rows × 4 columns</p>\n",
              "</div>\n",
              "    <div class=\"colab-df-buttons\">\n",
              "\n",
              "  <div class=\"colab-df-container\">\n",
              "    <button class=\"colab-df-convert\" onclick=\"convertToInteractive('df-1d99f35d-1da3-4540-9fd3-1462ae167c1d')\"\n",
              "            title=\"Convert this dataframe to an interactive table.\"\n",
              "            style=\"display:none;\">\n",
              "\n",
              "  <svg xmlns=\"http://www.w3.org/2000/svg\" height=\"24px\" viewBox=\"0 -960 960 960\">\n",
              "    <path d=\"M120-120v-720h720v720H120Zm60-500h600v-160H180v160Zm220 220h160v-160H400v160Zm0 220h160v-160H400v160ZM180-400h160v-160H180v160Zm440 0h160v-160H620v160ZM180-180h160v-160H180v160Zm440 0h160v-160H620v160Z\"/>\n",
              "  </svg>\n",
              "    </button>\n",
              "\n",
              "  <style>\n",
              "    .colab-df-container {\n",
              "      display:flex;\n",
              "      gap: 12px;\n",
              "    }\n",
              "\n",
              "    .colab-df-convert {\n",
              "      background-color: #E8F0FE;\n",
              "      border: none;\n",
              "      border-radius: 50%;\n",
              "      cursor: pointer;\n",
              "      display: none;\n",
              "      fill: #1967D2;\n",
              "      height: 32px;\n",
              "      padding: 0 0 0 0;\n",
              "      width: 32px;\n",
              "    }\n",
              "\n",
              "    .colab-df-convert:hover {\n",
              "      background-color: #E2EBFA;\n",
              "      box-shadow: 0px 1px 2px rgba(60, 64, 67, 0.3), 0px 1px 3px 1px rgba(60, 64, 67, 0.15);\n",
              "      fill: #174EA6;\n",
              "    }\n",
              "\n",
              "    .colab-df-buttons div {\n",
              "      margin-bottom: 4px;\n",
              "    }\n",
              "\n",
              "    [theme=dark] .colab-df-convert {\n",
              "      background-color: #3B4455;\n",
              "      fill: #D2E3FC;\n",
              "    }\n",
              "\n",
              "    [theme=dark] .colab-df-convert:hover {\n",
              "      background-color: #434B5C;\n",
              "      box-shadow: 0px 1px 3px 1px rgba(0, 0, 0, 0.15);\n",
              "      filter: drop-shadow(0px 1px 2px rgba(0, 0, 0, 0.3));\n",
              "      fill: #FFFFFF;\n",
              "    }\n",
              "  </style>\n",
              "\n",
              "    <script>\n",
              "      const buttonEl =\n",
              "        document.querySelector('#df-1d99f35d-1da3-4540-9fd3-1462ae167c1d button.colab-df-convert');\n",
              "      buttonEl.style.display =\n",
              "        google.colab.kernel.accessAllowed ? 'block' : 'none';\n",
              "\n",
              "      async function convertToInteractive(key) {\n",
              "        const element = document.querySelector('#df-1d99f35d-1da3-4540-9fd3-1462ae167c1d');\n",
              "        const dataTable =\n",
              "          await google.colab.kernel.invokeFunction('convertToInteractive',\n",
              "                                                    [key], {});\n",
              "        if (!dataTable) return;\n",
              "\n",
              "        const docLinkHtml = 'Like what you see? Visit the ' +\n",
              "          '<a target=\"_blank\" href=https://colab.research.google.com/notebooks/data_table.ipynb>data table notebook</a>'\n",
              "          + ' to learn more about interactive tables.';\n",
              "        element.innerHTML = '';\n",
              "        dataTable['output_type'] = 'display_data';\n",
              "        await google.colab.output.renderOutput(dataTable, element);\n",
              "        const docLink = document.createElement('div');\n",
              "        docLink.innerHTML = docLinkHtml;\n",
              "        element.appendChild(docLink);\n",
              "      }\n",
              "    </script>\n",
              "  </div>\n",
              "\n",
              "\n",
              "<div id=\"df-00e53f02-2642-40c8-9700-974eafcf052b\">\n",
              "  <button class=\"colab-df-quickchart\" onclick=\"quickchart('df-00e53f02-2642-40c8-9700-974eafcf052b')\"\n",
              "            title=\"Suggest charts\"\n",
              "            style=\"display:none;\">\n",
              "\n",
              "<svg xmlns=\"http://www.w3.org/2000/svg\" height=\"24px\"viewBox=\"0 0 24 24\"\n",
              "     width=\"24px\">\n",
              "    <g>\n",
              "        <path d=\"M19 3H5c-1.1 0-2 .9-2 2v14c0 1.1.9 2 2 2h14c1.1 0 2-.9 2-2V5c0-1.1-.9-2-2-2zM9 17H7v-7h2v7zm4 0h-2V7h2v10zm4 0h-2v-4h2v4z\"/>\n",
              "    </g>\n",
              "</svg>\n",
              "  </button>\n",
              "\n",
              "<style>\n",
              "  .colab-df-quickchart {\n",
              "      --bg-color: #E8F0FE;\n",
              "      --fill-color: #1967D2;\n",
              "      --hover-bg-color: #E2EBFA;\n",
              "      --hover-fill-color: #174EA6;\n",
              "      --disabled-fill-color: #AAA;\n",
              "      --disabled-bg-color: #DDD;\n",
              "  }\n",
              "\n",
              "  [theme=dark] .colab-df-quickchart {\n",
              "      --bg-color: #3B4455;\n",
              "      --fill-color: #D2E3FC;\n",
              "      --hover-bg-color: #434B5C;\n",
              "      --hover-fill-color: #FFFFFF;\n",
              "      --disabled-bg-color: #3B4455;\n",
              "      --disabled-fill-color: #666;\n",
              "  }\n",
              "\n",
              "  .colab-df-quickchart {\n",
              "    background-color: var(--bg-color);\n",
              "    border: none;\n",
              "    border-radius: 50%;\n",
              "    cursor: pointer;\n",
              "    display: none;\n",
              "    fill: var(--fill-color);\n",
              "    height: 32px;\n",
              "    padding: 0;\n",
              "    width: 32px;\n",
              "  }\n",
              "\n",
              "  .colab-df-quickchart:hover {\n",
              "    background-color: var(--hover-bg-color);\n",
              "    box-shadow: 0 1px 2px rgba(60, 64, 67, 0.3), 0 1px 3px 1px rgba(60, 64, 67, 0.15);\n",
              "    fill: var(--button-hover-fill-color);\n",
              "  }\n",
              "\n",
              "  .colab-df-quickchart-complete:disabled,\n",
              "  .colab-df-quickchart-complete:disabled:hover {\n",
              "    background-color: var(--disabled-bg-color);\n",
              "    fill: var(--disabled-fill-color);\n",
              "    box-shadow: none;\n",
              "  }\n",
              "\n",
              "  .colab-df-spinner {\n",
              "    border: 2px solid var(--fill-color);\n",
              "    border-color: transparent;\n",
              "    border-bottom-color: var(--fill-color);\n",
              "    animation:\n",
              "      spin 1s steps(1) infinite;\n",
              "  }\n",
              "\n",
              "  @keyframes spin {\n",
              "    0% {\n",
              "      border-color: transparent;\n",
              "      border-bottom-color: var(--fill-color);\n",
              "      border-left-color: var(--fill-color);\n",
              "    }\n",
              "    20% {\n",
              "      border-color: transparent;\n",
              "      border-left-color: var(--fill-color);\n",
              "      border-top-color: var(--fill-color);\n",
              "    }\n",
              "    30% {\n",
              "      border-color: transparent;\n",
              "      border-left-color: var(--fill-color);\n",
              "      border-top-color: var(--fill-color);\n",
              "      border-right-color: var(--fill-color);\n",
              "    }\n",
              "    40% {\n",
              "      border-color: transparent;\n",
              "      border-right-color: var(--fill-color);\n",
              "      border-top-color: var(--fill-color);\n",
              "    }\n",
              "    60% {\n",
              "      border-color: transparent;\n",
              "      border-right-color: var(--fill-color);\n",
              "    }\n",
              "    80% {\n",
              "      border-color: transparent;\n",
              "      border-right-color: var(--fill-color);\n",
              "      border-bottom-color: var(--fill-color);\n",
              "    }\n",
              "    90% {\n",
              "      border-color: transparent;\n",
              "      border-bottom-color: var(--fill-color);\n",
              "    }\n",
              "  }\n",
              "</style>\n",
              "\n",
              "  <script>\n",
              "    async function quickchart(key) {\n",
              "      const quickchartButtonEl =\n",
              "        document.querySelector('#' + key + ' button');\n",
              "      quickchartButtonEl.disabled = true;  // To prevent multiple clicks.\n",
              "      quickchartButtonEl.classList.add('colab-df-spinner');\n",
              "      try {\n",
              "        const charts = await google.colab.kernel.invokeFunction(\n",
              "            'suggestCharts', [key], {});\n",
              "      } catch (error) {\n",
              "        console.error('Error during call to suggestCharts:', error);\n",
              "      }\n",
              "      quickchartButtonEl.classList.remove('colab-df-spinner');\n",
              "      quickchartButtonEl.classList.add('colab-df-quickchart-complete');\n",
              "    }\n",
              "    (() => {\n",
              "      let quickchartButtonEl =\n",
              "        document.querySelector('#df-00e53f02-2642-40c8-9700-974eafcf052b button');\n",
              "      quickchartButtonEl.style.display =\n",
              "        google.colab.kernel.accessAllowed ? 'block' : 'none';\n",
              "    })();\n",
              "  </script>\n",
              "</div>\n",
              "    </div>\n",
              "  </div>\n"
            ]
          },
          "metadata": {},
          "execution_count": 3
        }
      ]
    },
    {
      "cell_type": "markdown",
      "source": [
        "## Selecting Title, Body and Label Columns"
      ],
      "metadata": {
        "id": "RhIxMEz0Fllf"
      }
    },
    {
      "cell_type": "code",
      "source": [
        "# Select Columns 2,3,4 from both datasets and removing heading row\n",
        "data1 = df1.values\n",
        "data2 = df2.values\n",
        "\n",
        "data1 = data1[1:, 1:]\n",
        "data2 = data2[1:, 1:]\n",
        "\n",
        "# Making Labels in data1 integral\n",
        "data1[:,2] = data1[:,2].astype(int)"
      ],
      "metadata": {
        "id": "mdXS0WBfFqvA"
      },
      "execution_count": null,
      "outputs": []
    },
    {
      "cell_type": "markdown",
      "source": [
        "## Encode Dataset2 Labels"
      ],
      "metadata": {
        "id": "sQZRt-0EHzJH"
      }
    },
    {
      "cell_type": "code",
      "source": [
        "# Encode FAKE as 1, REAL as 0\n",
        "for row in data2:\n",
        "  if row[2]=='FAKE':\n",
        "    row[2] = 1\n",
        "  else:\n",
        "    row[2] = 0"
      ],
      "metadata": {
        "id": "SkVEOUY_H3H4"
      },
      "execution_count": null,
      "outputs": []
    },
    {
      "cell_type": "markdown",
      "source": [
        "## Separate Real News and Fake News Data"
      ],
      "metadata": {
        "id": "oP859gtXQ4EX"
      }
    },
    {
      "cell_type": "code",
      "source": [
        "real = []\n",
        "fake = []\n",
        "\n",
        "# Separate Dataset 1\n",
        "for row in data1:\n",
        "  if row[2] == 1:\n",
        "    fake.append(row)\n",
        "  else:\n",
        "    real.append(row)\n",
        "\n",
        "#Separate Dataset2\n",
        "for row in data2:\n",
        "  if row[2] == 1:\n",
        "    fake.append(row)\n",
        "  else:\n",
        "    real.append(row)"
      ],
      "metadata": {
        "id": "GkdbO2gQQ7AB"
      },
      "execution_count": null,
      "outputs": []
    },
    {
      "cell_type": "markdown",
      "source": [
        "## Separate Title and Body Data"
      ],
      "metadata": {
        "id": "2MorFKeFQi98"
      }
    },
    {
      "cell_type": "code",
      "source": [
        "title_content = []\n",
        "body_content = []\n",
        "\n",
        "# Separate Title Data\n",
        "for row in real:\n",
        "  title_content.append([row[0], row[2]])\n",
        "for row in fake:\n",
        "  title_content.append([row[0], row[2]])\n",
        "\n",
        "#Separate Body Data\n",
        "for row in real:\n",
        "  body_content.append([row[1], row[2]])\n",
        "for row in fake:\n",
        "  body_content.append([row[1], row[2]])"
      ],
      "metadata": {
        "id": "gAuOSOg1QoTb"
      },
      "execution_count": null,
      "outputs": []
    },
    {
      "cell_type": "markdown",
      "source": [
        "## Save Data"
      ],
      "metadata": {
        "id": "oxLeAUptlAOt"
      }
    },
    {
      "cell_type": "code",
      "source": [
        "np.savez(\"Title_data.npz\", data=title_content)\n",
        "np.savez(\"Body_data.npz\", data=body_content)"
      ],
      "metadata": {
        "id": "okK4Olq7lHu3"
      },
      "execution_count": null,
      "outputs": []
    },
    {
      "cell_type": "markdown",
      "source": [
        "---\n",
        "---"
      ],
      "metadata": {
        "id": "2CsjfFVrqY84"
      }
    },
    {
      "cell_type": "markdown",
      "source": [
        "# 3. Data Analytics"
      ],
      "metadata": {
        "id": "1MDxH9ktlrOt"
      }
    },
    {
      "cell_type": "markdown",
      "source": [
        "## Comparing Number Real and Fake News Data Points"
      ],
      "metadata": {
        "id": "2LuI6XpwmCwc"
      }
    },
    {
      "cell_type": "code",
      "source": [
        "x_labels = ['Real', 'Fake']\n",
        "y_values = [len(real), len(fake)]\n",
        "\n",
        "fig, ax = plt.subplots()\n",
        "\n",
        "plt.bar(x_labels, y_values, align='center', width = 0.75, color='green')\n",
        "plt.xlabel('Dataset Labels')\n",
        "plt.ylabel('Number of Data Points')\n",
        "plt.ylim((0, 6000))\n",
        "plt.title('Dataset Labels Ratio')\n",
        "\n",
        "for i, v in enumerate(x_labels):\n",
        "    plt.text(i, y_values[i]+50, str(y_values[i]), ha='center', va='bottom', fontsize=15)\n",
        "\n",
        "plt.show()"
      ],
      "metadata": {
        "colab": {
          "base_uri": "https://localhost:8080/",
          "height": 472
        },
        "id": "gJcgv2bCluAg",
        "outputId": "2b3e9a74-4dd4-49ee-aef0-345a3d4cda1d"
      },
      "execution_count": null,
      "outputs": [
        {
          "output_type": "display_data",
          "data": {
            "text/plain": [
              "<Figure size 640x480 with 1 Axes>"
            ],
            "image/png": "[encoded data removed]"
          },
          "metadata": {}
        }
      ]
    },
    {
      "cell_type": "markdown",
      "source": [
        "## Separating Words in Real and Fake Titles"
      ],
      "metadata": {
        "id": "BJ2yW8lo6dsD"
      }
    },
    {
      "cell_type": "code",
      "source": [
        "# Separating Real News\n",
        "combined_real = []\n",
        "\n",
        "for i in range(len(real)):\n",
        "    sentence = re.sub('[^A-Za-z0-9 ]+', '', real[i][0])\n",
        "    combined_real.append(sentence)\n",
        "\n",
        "texts_real = []\n",
        "for s in combined_real:\n",
        "  s_split = s.split(' ')\n",
        "  s_split = [word for word in s_split if word != '']\n",
        "  texts_real.extend(s_split)\n",
        "\n",
        "print(\"Number of Words in Real Titles : \", len(texts_real))\n",
        "\n",
        "\n",
        "# Separating Fake News\n",
        "combined_fake = []\n",
        "\n",
        "for i in range(len(fake)):\n",
        "    sentence = re.sub('[^A-Za-z0-9 ]+', '', fake[i][0])\n",
        "    combined_fake.append(sentence)\n",
        "\n",
        "texts_fake = []\n",
        "for s in combined_fake:\n",
        "  s_split = s.split(' ')\n",
        "  s_split = [word for word in s_split if word != '']\n",
        "  texts_fake.extend(s_split)\n",
        "\n",
        "print(\"Number of Words in Fake Titles : \", len(texts_fake))"
      ],
      "metadata": {
        "colab": {
          "base_uri": "https://localhost:8080/"
        },
        "id": "bmRD-Jtx6txE",
        "outputId": "78db66d3-f8a0-4ef3-9e54-2745401c0aa6"
      },
      "execution_count": null,
      "outputs": [
        {
          "output_type": "stream",
          "name": "stdout",
          "text": [
            "Number of Words in Real Titles :  52833\n",
            "Number of Words in Fake Titles :  50884\n"
          ]
        }
      ]
    },
    {
      "cell_type": "markdown",
      "source": [
        "## Removing Stop Words from Word Lists"
      ],
      "metadata": {
        "id": "VwgOIJ5TCyMQ"
      }
    },
    {
      "cell_type": "code",
      "source": [
        "stop_words = set(stopwords.words('english'))\n",
        "\n",
        "texts_real = [word for word in texts_real if word.lower() not in stop_words]\n",
        "texts_fake = [word for word in texts_fake if word.lower() not in stop_words]"
      ],
      "metadata": {
        "id": "DQxlUbmkC3WL"
      },
      "execution_count": null,
      "outputs": []
    },
    {
      "cell_type": "markdown",
      "source": [
        "## Finding the Top 20 Words in Real Titles"
      ],
      "metadata": {
        "id": "sNsnXuxDBZv_"
      }
    },
    {
      "cell_type": "code",
      "source": [
        "word_counts = Counter(texts_real)\n",
        "\n",
        "# Get the top 20 words\n",
        "top_words = word_counts.most_common(20)\n",
        "\n",
        "# Separate the words and their counts\n",
        "words, counts = zip(*top_words)\n",
        "\n",
        "# Create a bar graph\n",
        "plt.figure(figsize=(10, 6))  # Set the figure size\n",
        "plt.barh(words, counts)      # Horizontal bar graph\n",
        "plt.xlabel('Occurrences')   # Label for the x-axis\n",
        "plt.ylabel('Words')         # Label for the y-axis\n",
        "plt.title('Top 20 Words in Real Titles')  # Title for the graph\n",
        "\n",
        "# Display the plot\n",
        "plt.show()"
      ],
      "metadata": {
        "colab": {
          "base_uri": "https://localhost:8080/",
          "height": 564
        },
        "id": "1fvG1GB8Bffn",
        "outputId": "9d6bf89b-e347-424a-b7a1-5efe7b42843f"
      },
      "execution_count": null,
      "outputs": [
        {
          "output_type": "display_data",
          "data": {
            "text/plain": [
              "<Figure size 1000x600 with 1 Axes>"
            ],
            "image/png": "[encoded data removed]"
          },
          "metadata": {}
        }
      ]
    },
    {
      "cell_type": "markdown",
      "source": [
        "## Finding Top 20 Words in Fake Titles"
      ],
      "metadata": {
        "id": "YpKjnR6aDZ5F"
      }
    },
    {
      "cell_type": "code",
      "source": [
        "word_counts = Counter(texts_fake)\n",
        "\n",
        "# Get the top 20 words\n",
        "top_words = word_counts.most_common(20)\n",
        "\n",
        "# Separate the words and their counts\n",
        "words, counts = zip(*top_words)\n",
        "\n",
        "# Create a bar graph\n",
        "plt.figure(figsize=(10, 6))  # Set the figure size\n",
        "plt.barh(words, counts)      # Horizontal bar graph\n",
        "plt.xlabel('Occurrences')   # Label for the x-axis\n",
        "plt.ylabel('Words')         # Label for the y-axis\n",
        "plt.title('Top 20 Words in Fake Titles')  # Title for the graph\n",
        "\n",
        "# Display the plot\n",
        "plt.show()"
      ],
      "metadata": {
        "colab": {
          "base_uri": "https://localhost:8080/",
          "height": 564
        },
        "id": "-qgyUR5MDh5z",
        "outputId": "01541e3f-cc1f-43b0-d841-26b43e162066"
      },
      "execution_count": null,
      "outputs": [
        {
          "output_type": "display_data",
          "data": {
            "text/plain": [
              "<Figure size 1000x600 with 1 Axes>"
            ],
            "image/png": "[encoded data removed]"
          },
          "metadata": {}
        }
      ]
    },
    {
      "cell_type": "markdown",
      "source": [
        "# 4. Neural Network 1 - N-gram Vectorisation on Titles"
      ],
      "metadata": {
        "id": "zWhu8G9KIe_n"
      }
    },
    {
      "cell_type": "markdown",
      "source": [
        "## Loading Title Data"
      ],
      "metadata": {
        "id": "LbozSQYWIrt8"
      }
    },
    {
      "cell_type": "code",
      "source": [
        "data = np.load('Title_data.npz')\n",
        "title_data = data['data']\n",
        "\n",
        "output = [int(row[1]) for row in title_data]\n",
        "output = np.array(output)"
      ],
      "metadata": {
        "id": "D67fioRPKHg_"
      },
      "execution_count": null,
      "outputs": []
    },
    {
      "cell_type": "markdown",
      "source": [
        "## Text Processing"
      ],
      "metadata": {
        "id": "U8ZGGXvLKwuP"
      }
    },
    {
      "cell_type": "markdown",
      "source": [
        "Steps:\n",
        "  1. Remove Special Characters using Regular Expression\n",
        "  2. Tokenise the Text\n",
        "  3. Word Lemmatisation"
      ],
      "metadata": {
        "id": "B60LUrLAKya8"
      }
    },
    {
      "cell_type": "code",
      "source": [
        "lemmatizer = WordNetLemmatizer()\n",
        "\n",
        "cleaned_title = []\n",
        "\n",
        "for i in range(len(title_data)):\n",
        "    title_sentence = re.sub('[^A-Za-z0-9 ]+', '', title_data[i][0])\n",
        "    title_tokens = nltk.word_tokenize(title_sentence)\n",
        "    title_lemmatized_word = [lemmatizer.lemmatize(word) for word in title_tokens]\n",
        "    cleaned_title.append(\" \".join(word.lower() for word in title_lemmatized_word))\n",
        "\n",
        "cleaned_title = np.asarray(cleaned_title, dtype=object)"
      ],
      "metadata": {
        "id": "fP-mtQLOLCW2"
      },
      "execution_count": null,
      "outputs": []
    },
    {
      "cell_type": "markdown",
      "source": [
        "## Split Data into Train-Test Split"
      ],
      "metadata": {
        "id": "oo1TRYzhLfBl"
      }
    },
    {
      "cell_type": "code",
      "source": [
        "X_train, X_test, y_train, y_test = train_test_split(cleaned_title, output, test_size = 0.2, random_state = 1)"
      ],
      "metadata": {
        "id": "WbjnTPW1LiUZ"
      },
      "execution_count": null,
      "outputs": []
    },
    {
      "cell_type": "markdown",
      "source": [
        "## Learn Vocabulary from Training Text and Vectorise Text"
      ],
      "metadata": {
        "id": "zYRAUpLCPGh-"
      }
    },
    {
      "cell_type": "code",
      "source": [
        "max_vocab_title = 15000\n",
        "stop_words = set(stopwords.words('english'))\n",
        "stop_words = list(stop_words)\n",
        "\n",
        "tfidf_title = TfidfVectorizer(stop_words=stop_words,ngram_range=(1,3), max_features=max_vocab_title)\n",
        "\n",
        "sparse_tfidf_train_title = tfidf_title.fit_transform(X_train)\n",
        "\n",
        "X_tfidf_train_title = sparse_tfidf_train_title.toarray()\n",
        "\n",
        "X_tfidf_train_title"
      ],
      "metadata": {
        "id": "lAy2_m0EPNP4",
        "colab": {
          "base_uri": "https://localhost:8080/"
        },
        "outputId": "741f01b6-357f-443d-820d-94cf0e2503fb"
      },
      "execution_count": null,
      "outputs": [
        {
          "output_type": "execute_result",
          "data": {
            "text/plain": [
              "array([[0., 0., 0., ..., 0., 0., 0.],\n",
              "       [0., 0., 0., ..., 0., 0., 0.],\n",
              "       [0., 0., 0., ..., 0., 0., 0.],\n",
              "       ...,\n",
              "       [0., 0., 0., ..., 0., 0., 0.],\n",
              "       [0., 0., 0., ..., 0., 0., 0.],\n",
              "       [0., 0., 0., ..., 0., 0., 0.]])"
            ]
          },
          "metadata": {},
          "execution_count": 41
        }
      ]
    },
    {
      "cell_type": "markdown",
      "source": [
        "## Creating Neural Network"
      ],
      "metadata": {
        "id": "j2pWDYMyQT8W"
      }
    },
    {
      "cell_type": "code",
      "source": [
        "model_title = tf.keras.Sequential()\n",
        "model_title.add(tf.keras.layers.Dense(64,input_shape=(max_vocab_title,),activation='relu'))\n",
        "model_title.add(tf.keras.layers.Dropout(0.2))\n",
        "model_title.add(tf.keras.layers.Dense(16,activation='relu'))\n",
        "model_title.add(tf.keras.layers.Dropout(0.2))\n",
        "model_title.add(tf.keras.layers.Dense(1,activation='relu'))\n",
        "model_title.add(tf.keras.layers.Activation('sigmoid'))\n",
        "\n",
        "model_title.compile(loss='binary_crossentropy', optimizer='adam', metrics = ['accuracy', 'Recall', tf.keras.metrics.Precision()])\n",
        "\n",
        "batch_size = 200\n",
        "max_epochs = 10\n",
        "early_stopping = tf.keras.callbacks.EarlyStopping(patience=2)\n",
        "\n",
        "model_title.fit(X_tfidf_train_title, y_train, batch_size = batch_size, epochs = max_epochs, callbacks=[early_stopping], validation_split = 0.2 , shuffle=True, verbose=1)"
      ],
      "metadata": {
        "colab": {
          "base_uri": "https://localhost:8080/"
        },
        "id": "X-AKfGMKQV0Y",
        "outputId": "60249c99-cad8-4631-c669-a36c029aa8a8"
      },
      "execution_count": null,
      "outputs": [
        {
          "output_type": "stream",
          "name": "stdout",
          "text": [
            "Epoch 1/10\n",
            "33/33 [==============================] - 8s 129ms/step - loss: 0.6882 - accuracy: 0.5550 - recall: 0.9489 - precision_1: 0.5219 - val_loss: 0.6752 - val_accuracy: 0.6173 - val_recall: 0.9914 - val_precision_1: 0.5642\n",
            "Epoch 2/10\n",
            "33/33 [==============================] - 2s 59ms/step - loss: 0.6392 - accuracy: 0.6783 - recall: 0.9877 - precision_1: 0.6020 - val_loss: 0.6259 - val_accuracy: 0.6819 - val_recall: 0.9840 - val_precision_1: 0.6106\n",
            "Epoch 3/10\n",
            "33/33 [==============================] - 3s 79ms/step - loss: 0.5571 - accuracy: 0.7882 - recall: 0.9814 - precision_1: 0.7006 - val_loss: 0.5908 - val_accuracy: 0.7459 - val_recall: 0.9556 - val_precision_1: 0.6704\n",
            "Epoch 4/10\n",
            "33/33 [==============================] - 2s 72ms/step - loss: 0.4856 - accuracy: 0.8682 - recall: 0.9773 - precision_1: 0.7964 - val_loss: 0.5929 - val_accuracy: 0.7562 - val_recall: 0.9408 - val_precision_1: 0.6843\n",
            "Epoch 5/10\n",
            "33/33 [==============================] - 2s 52ms/step - loss: 0.4436 - accuracy: 0.9077 - recall: 0.9773 - precision_1: 0.8531 - val_loss: 0.6032 - val_accuracy: 0.7672 - val_recall: 0.9236 - val_precision_1: 0.7007\n"
          ]
        },
        {
          "output_type": "execute_result",
          "data": {
            "text/plain": [
              "<keras.src.callbacks.History at 0x7ae2e925aa40>"
            ]
          },
          "metadata": {},
          "execution_count": 42
        }
      ]
    },
    {
      "cell_type": "markdown",
      "source": [
        "## Vectorise Test Data"
      ],
      "metadata": {
        "id": "fK9edHtcRo5O"
      }
    },
    {
      "cell_type": "code",
      "source": [
        "sparse_tfidf_test_title = tfidf_title.transform(X_test)\n",
        "X_tfidf_test_title = sparse_tfidf_test_title.toarray()"
      ],
      "metadata": {
        "id": "c4K5o_N4Rs6e"
      },
      "execution_count": null,
      "outputs": []
    },
    {
      "cell_type": "markdown",
      "source": [
        "## Run Model on Test Set"
      ],
      "metadata": {
        "id": "c-qxYKhXRw4H"
      }
    },
    {
      "cell_type": "code",
      "source": [
        "NN1_loss, NN1_accuracy, NN1_recall, NN1_precision = model_title.evaluate(X_tfidf_test_title, y_test)\n",
        "NN1_F1 = (2 * NN1_precision * NN1_recall) / (NN1_precision + NN1_recall)"
      ],
      "metadata": {
        "colab": {
          "base_uri": "https://localhost:8080/"
        },
        "id": "PfqsFFhI3QXD",
        "outputId": "26da6dfb-b996-4c87-de2d-e6ef5f840a1b"
      },
      "execution_count": null,
      "outputs": [
        {
          "output_type": "stream",
          "name": "stdout",
          "text": [
            "65/65 [==============================] - 1s 9ms/step - loss: 0.6171 - accuracy: 0.7689 - recall: 0.9085 - precision_1: 0.6937\n"
          ]
        }
      ]
    },
    {
      "cell_type": "markdown",
      "source": [
        "## Evaluation Metrics"
      ],
      "metadata": {
        "id": "O0XXjny53iO4"
      }
    },
    {
      "cell_type": "code",
      "source": [
        "print('Model Accuracy = %.2f' % (NN1_accuracy*100))\n",
        "print('Model Recall = %.2f' % (NN1_recall*100))\n",
        "print('Model Precision = %.2f' % (NN1_precision*100))\n",
        "print('Model F1 Measure = %.2f' % (NN1_F1*100))"
      ],
      "metadata": {
        "colab": {
          "base_uri": "https://localhost:8080/"
        },
        "id": "ndReKOuzSCN7",
        "outputId": "615194d9-8177-4fb3-f9c9-6ac1f97091e6"
      },
      "execution_count": null,
      "outputs": [
        {
          "output_type": "stream",
          "name": "stdout",
          "text": [
            "Model Accuracy = 76.89\n",
            "Model Recall = 90.85\n",
            "Model Precision = 69.37\n",
            "Model F1 Measure = 78.67\n"
          ]
        }
      ]
    },
    {
      "cell_type": "markdown",
      "source": [
        "## Create Confusion Matrix"
      ],
      "metadata": {
        "id": "L2hR48FsniB8"
      }
    },
    {
      "cell_type": "code",
      "source": [
        "y_pred = model_title.predict(X_tfidf_test_title)\n",
        "confusion_matrix = sklearn.metrics.confusion_matrix(y_test, np.rint(y_pred))\n",
        "\n",
        "ax = sns.heatmap(confusion_matrix, annot=True, cmap='Blues', fmt=\".0f\")\n",
        "\n",
        "ax.set_title('Confusion Matrix for N-gram Vectorisation on Title\\n');\n",
        "ax.set_xlabel('\\nPredicted Values')\n",
        "ax.set_ylabel('Actual Values ');\n",
        "\n",
        "## Ticket labels - List must be in alphabetical order\n",
        "ax.xaxis.set_ticklabels(['False','True'])\n",
        "ax.yaxis.set_ticklabels(['False','True'])\n",
        "\n",
        "## Display the visualization of the Confusion Matrix.\n",
        "plt.show()"
      ],
      "metadata": {
        "colab": {
          "base_uri": "https://localhost:8080/"
        },
        "id": "lZaeMDTxnkjv",
        "outputId": "48eb977c-43ba-4e37-f4eb-d6358d861ac3"
      },
      "execution_count": null,
      "outputs": [
        {
          "output_type": "stream",
          "name": "stdout",
          "text": [
            "65/65 [==============================] - 1s 10ms/step\n"
          ]
        },
        {
          "output_type": "display_data",
          "data": {
            "text/plain": [
              "<Figure size 640x480 with 2 Axes>"
            ],
            "image/png": "[encoded data removed]"
          },
          "metadata": {}
        }
      ]
    },
    {
      "cell_type": "markdown",
      "source": [
        "# 5. Neural Network 2 - N-gram Vectorisation on Content"
      ],
      "metadata": {
        "id": "3iFBP599dsVL"
      }
    },
    {
      "cell_type": "markdown",
      "source": [
        "## Load Body Data"
      ],
      "metadata": {
        "id": "OK9qU1ZBd0dE"
      }
    },
    {
      "cell_type": "code",
      "source": [
        "data = np.load('Body_data.npz')\n",
        "content_data = data['data']\n",
        "\n",
        "output = [int(row[1]) for row in content_data]\n",
        "output = np.array(output)"
      ],
      "metadata": {
        "id": "MjG2TiFHdsHc"
      },
      "execution_count": null,
      "outputs": []
    },
    {
      "cell_type": "markdown",
      "source": [
        "## Text Processing"
      ],
      "metadata": {
        "id": "pOtkxnujd85F"
      }
    },
    {
      "cell_type": "markdown",
      "source": [
        "Steps:\n",
        "  1. Remove Special Characters using Regular Expression\n",
        "  2. Tokenise the Text\n",
        "  3. Word Lemmatisation"
      ],
      "metadata": {
        "id": "fXubdgqgd-aX"
      }
    },
    {
      "cell_type": "code",
      "source": [
        "lemmatizer = WordNetLemmatizer()\n",
        "\n",
        "cleaned_content = []\n",
        "\n",
        "for i in range(len(content_data)):\n",
        "    content_sentence = re.sub('[^A-Za-z0-9 ]+', '', content_data[i][0])\n",
        "    content_tokens = nltk.word_tokenize(content_sentence)\n",
        "    content_lemmatized_word = [lemmatizer.lemmatize(word) for word in content_tokens]\n",
        "    cleaned_content.append(\" \".join(word.lower() for word in content_lemmatized_word))\n",
        "\n",
        "cleaned_content = np.asarray(cleaned_content, dtype=object)"
      ],
      "metadata": {
        "id": "bDqW0DbIeDf-"
      },
      "execution_count": null,
      "outputs": []
    },
    {
      "cell_type": "markdown",
      "source": [
        "## Split into Train-Test Split"
      ],
      "metadata": {
        "id": "OtzBvTNueNp2"
      }
    },
    {
      "cell_type": "code",
      "source": [
        "X_train, X_test, y_train, y_test = train_test_split(cleaned_content, output, test_size = 0.2, random_state = 1)"
      ],
      "metadata": {
        "id": "00RT6HZKeP_d"
      },
      "execution_count": null,
      "outputs": []
    },
    {
      "cell_type": "markdown",
      "source": [
        "## Learn Vocabulary from Training Text and Vectorise Text"
      ],
      "metadata": {
        "id": "2R4Z4sLbeRKx"
      }
    },
    {
      "cell_type": "code",
      "source": [
        "max_vocab_content = 30000\n",
        "stop_words = set(stopwords.words('english'))\n",
        "stop_words = list(stop_words)\n",
        "\n",
        "tfidf_content = TfidfVectorizer(stop_words=stop_words,ngram_range=(1,3), max_features=max_vocab_content)\n",
        "\n",
        "sparse_tfidf_train_content = tfidf_content.fit_transform(X_train)\n",
        "\n",
        "X_tfidf_train_content = sparse_tfidf_train_content.toarray()"
      ],
      "metadata": {
        "id": "sfGhVC27ehBu"
      },
      "execution_count": null,
      "outputs": []
    },
    {
      "cell_type": "markdown",
      "source": [
        "## Creating Neural Network"
      ],
      "metadata": {
        "id": "CaUCPcz7ehoK"
      }
    },
    {
      "cell_type": "code",
      "source": [
        "model_content = tf.keras.Sequential()\n",
        "model_content.add(tf.keras.layers.Dense(64,input_shape=(max_vocab_content,),activation='relu'))\n",
        "model_content.add(tf.keras.layers.Dropout(0.2))\n",
        "model_content.add(tf.keras.layers.Dense(16,activation='relu'))\n",
        "model_content.add(tf.keras.layers.Dropout(0.2))\n",
        "model_content.add(tf.keras.layers.Dense(1,activation='relu'))\n",
        "model_content.add(tf.keras.layers.Activation('sigmoid'))\n",
        "\n",
        "model_content.compile(loss='binary_crossentropy', optimizer='adam', metrics = ['accuracy', 'Recall', tf.keras.metrics.Precision()])\n",
        "\n",
        "batch_size = 200\n",
        "max_epochs = 10\n",
        "early_stopping = tf.keras.callbacks.EarlyStopping(patience=2)\n",
        "\n",
        "model_content.fit(X_tfidf_train_content, y_train, batch_size = batch_size, epochs = max_epochs, callbacks=[early_stopping], validation_split = 0.2 , shuffle=True, verbose=1)"
      ],
      "metadata": {
        "colab": {
          "base_uri": "https://localhost:8080/"
        },
        "id": "jhcZrb48e2QZ",
        "outputId": "2c5d08ea-8e38-4799-86cf-40510271d7ff"
      },
      "execution_count": null,
      "outputs": [
        {
          "output_type": "stream",
          "name": "stdout",
          "text": [
            "Epoch 1/10\n",
            "33/33 [==============================] - 5s 118ms/step - loss: 0.6648 - accuracy: 0.6800 - recall: 0.8440 - precision_2: 0.6253 - val_loss: 0.6081 - val_accuracy: 0.7837 - val_recall: 0.9889 - val_precision_2: 0.6986\n",
            "Epoch 2/10\n",
            "33/33 [==============================] - 3s 87ms/step - loss: 0.5417 - accuracy: 0.8502 - recall: 0.9937 - precision_2: 0.7660 - val_loss: 0.5078 - val_accuracy: 0.8629 - val_recall: 0.9852 - val_precision_2: 0.7895\n",
            "Epoch 3/10\n",
            "33/33 [==============================] - 3s 105ms/step - loss: 0.4487 - accuracy: 0.9281 - recall: 0.9943 - precision_2: 0.8742 - val_loss: 0.4708 - val_accuracy: 0.8873 - val_recall: 0.9864 - val_precision_2: 0.8214\n",
            "Epoch 4/10\n",
            "33/33 [==============================] - 3s 103ms/step - loss: 0.4034 - accuracy: 0.9621 - recall: 0.9962 - precision_2: 0.9303 - val_loss: 0.4698 - val_accuracy: 0.8867 - val_recall: 0.9852 - val_precision_2: 0.8212\n",
            "Epoch 5/10\n",
            "33/33 [==============================] - 3s 86ms/step - loss: 0.3858 - accuracy: 0.9793 - recall: 0.9965 - precision_2: 0.9620 - val_loss: 0.4686 - val_accuracy: 0.9001 - val_recall: 0.9803 - val_precision_2: 0.8431\n",
            "Epoch 6/10\n",
            "33/33 [==============================] - 3s 88ms/step - loss: 0.3766 - accuracy: 0.9851 - recall: 0.9968 - precision_2: 0.9729 - val_loss: 0.4775 - val_accuracy: 0.8946 - val_recall: 0.9815 - val_precision_2: 0.8344\n",
            "Epoch 7/10\n",
            "33/33 [==============================] - 3s 93ms/step - loss: 0.3723 - accuracy: 0.9884 - recall: 0.9968 - precision_2: 0.9796 - val_loss: 0.4665 - val_accuracy: 0.9080 - val_recall: 0.9778 - val_precision_2: 0.8564\n",
            "Epoch 8/10\n",
            "33/33 [==============================] - 4s 125ms/step - loss: 0.3689 - accuracy: 0.9910 - recall: 0.9968 - precision_2: 0.9847 - val_loss: 0.4628 - val_accuracy: 0.9141 - val_recall: 0.9692 - val_precision_2: 0.8714\n",
            "Epoch 9/10\n",
            "33/33 [==============================] - 3s 89ms/step - loss: 0.3678 - accuracy: 0.9933 - recall: 0.9968 - precision_2: 0.9894 - val_loss: 0.4911 - val_accuracy: 0.9043 - val_recall: 0.9753 - val_precision_2: 0.8524\n",
            "Epoch 10/10\n",
            "33/33 [==============================] - 3s 88ms/step - loss: 0.3669 - accuracy: 0.9927 - recall: 0.9968 - precision_2: 0.9881 - val_loss: 0.4864 - val_accuracy: 0.9110 - val_recall: 0.9704 - val_precision_2: 0.8658\n"
          ]
        },
        {
          "output_type": "execute_result",
          "data": {
            "text/plain": [
              "<keras.src.callbacks.History at 0x7e554b938850>"
            ]
          },
          "metadata": {},
          "execution_count": 72
        }
      ]
    },
    {
      "cell_type": "markdown",
      "source": [
        "## Vectorise Test Data and Run Model"
      ],
      "metadata": {
        "id": "lI8h4lBIfHPC"
      }
    },
    {
      "cell_type": "code",
      "source": [
        "sparse_tfidf_test_content = tfidf_content.transform(X_test)\n",
        "X_tfidf_test_content = sparse_tfidf_test_content.toarray()\n",
        "\n",
        "NN2_loss, NN2_accuracy, NN2_recall, NN2_precision = model_content.evaluate(X_tfidf_test_content, y_test)\n",
        "NN2_F1 = (2 * NN2_precision * NN2_recall) / (NN2_precision + NN2_recall)"
      ],
      "metadata": {
        "colab": {
          "base_uri": "https://localhost:8080/"
        },
        "id": "RR5muOEUfQ_i",
        "outputId": "8c08060f-321f-4cfa-a4ec-44546ccc3821"
      },
      "execution_count": null,
      "outputs": [
        {
          "output_type": "stream",
          "name": "stdout",
          "text": [
            "65/65 [==============================] - 1s 15ms/step - loss: 0.4842 - accuracy: 0.9142 - recall: 0.9605 - precision_2: 0.8701\n"
          ]
        }
      ]
    },
    {
      "cell_type": "markdown",
      "source": [
        "## Evaluation Metrics"
      ],
      "metadata": {
        "id": "HOPziC4bfeO9"
      }
    },
    {
      "cell_type": "code",
      "source": [
        "print('Model Accuracy = %.2f' % (NN2_accuracy*100))\n",
        "print('Model Recall = %.2f' % (NN2_recall*100))\n",
        "print('Model Precision = %.2f' % (NN2_precision*100))\n",
        "print('Model F1 Measure = %.2f' % (NN2_F1*100))"
      ],
      "metadata": {
        "colab": {
          "base_uri": "https://localhost:8080/"
        },
        "id": "hEpnu9t-fhfs",
        "outputId": "8ebb002c-8ec6-42af-8de9-446f384abbf6"
      },
      "execution_count": null,
      "outputs": [
        {
          "output_type": "stream",
          "name": "stdout",
          "text": [
            "Model Accuracy = 91.42\n",
            "Model Recall = 96.05\n",
            "Model Precision = 87.01\n",
            "Model F1 Measure = 91.30\n"
          ]
        }
      ]
    },
    {
      "cell_type": "markdown",
      "source": [
        "## Create Confusion Matrix"
      ],
      "metadata": {
        "id": "uLs9O-xrue6u"
      }
    },
    {
      "cell_type": "code",
      "source": [
        "y_pred = model_content.predict(X_tfidf_test_content)\n",
        "confusion_matrix = sklearn.metrics.confusion_matrix(y_test, np.rint(y_pred))\n",
        "\n",
        "ax = sns.heatmap(confusion_matrix, annot=True, cmap='Blues', fmt=\".0f\")\n",
        "\n",
        "ax.set_title('Confusion Matrix for N-gram Vectorisation on Content\\n');\n",
        "ax.set_xlabel('\\nPredicted Values')\n",
        "ax.set_ylabel('Actual Values ');\n",
        "\n",
        "## Ticket labels - List must be in alphabetical order\n",
        "ax.xaxis.set_ticklabels(['False','True'])\n",
        "ax.yaxis.set_ticklabels(['False','True'])\n",
        "\n",
        "## Display the visualization of the Confusion Matrix.\n",
        "plt.show()"
      ],
      "metadata": {
        "colab": {
          "base_uri": "https://localhost:8080/",
          "height": 526
        },
        "id": "dNo6VBCLuhCq",
        "outputId": "cab434a7-80aa-4004-8e50-d5124a6df8f7"
      },
      "execution_count": null,
      "outputs": [
        {
          "output_type": "stream",
          "name": "stdout",
          "text": [
            "65/65 [==============================] - 1s 9ms/step\n"
          ]
        },
        {
          "output_type": "display_data",
          "data": {
            "text/plain": [
              "<Figure size 640x480 with 2 Axes>"
            ],
            "image/png": "[encoded data removed]"
          },
          "metadata": {}
        }
      ]
    },
    {
      "cell_type": "markdown",
      "source": [
        "# 6. Neural Network 3 - Sequnce Vectorisation on Title"
      ],
      "metadata": {
        "id": "3GXE1IxFgZ8o"
      }
    },
    {
      "cell_type": "markdown",
      "source": [
        "## Loading Title Data"
      ],
      "metadata": {
        "id": "0yEPbehogprp"
      }
    },
    {
      "cell_type": "code",
      "source": [
        "data = np.load('Title_data.npz')\n",
        "title_data = data['data']\n",
        "\n",
        "output = [int(row[1]) for row in title_data]\n",
        "output = np.array(output)"
      ],
      "metadata": {
        "id": "pmz9VBYTlevK"
      },
      "execution_count": null,
      "outputs": []
    },
    {
      "cell_type": "markdown",
      "source": [
        "## Text Preprocessing"
      ],
      "metadata": {
        "id": "hWsbQ8IClm96"
      }
    },
    {
      "cell_type": "markdown",
      "source": [
        "1. Remove Special Characters using Regular Expressions\n",
        "2. Tokenize text\n",
        "3. Word Normalization (Lemmatization)\n",
        "4. Remove Stopwords"
      ],
      "metadata": {
        "id": "MbS8-DrQlvFY"
      }
    },
    {
      "cell_type": "code",
      "source": [
        "stopword = stopwords.words('english')\n",
        "lemmatizer = WordNetLemmatizer()\n",
        "\n",
        "cleaned_title = []\n",
        "\n",
        "for i in range(len(title_data)):\n",
        "    title_sentence = re.sub('[^A-Za-z0-9 ]+', '', title_data[i][0])\n",
        "    title_tokens = nltk.word_tokenize(title_sentence)\n",
        "    title_lemmatized_word = [lemmatizer.lemmatize(word) for word in title_tokens]\n",
        "    title_removed_stopwords = [word for word in title_lemmatized_word if word not in stopword]\n",
        "    cleaned_title.append(\" \".join(word.lower() for word in title_removed_stopwords))\n",
        "\n",
        "cleaned_title = np.asarray(cleaned_title,dtype=object)"
      ],
      "metadata": {
        "id": "snziUhXwlw4r"
      },
      "execution_count": null,
      "outputs": []
    },
    {
      "cell_type": "markdown",
      "source": [
        "## Split Train and Test Data"
      ],
      "metadata": {
        "id": "3rW1JEgFmepo"
      }
    },
    {
      "cell_type": "code",
      "source": [
        "X_train_title, X_test_title, y_train_title, y_test_title = train_test_split(cleaned_title, output, test_size = 0.2, random_state = 1)"
      ],
      "metadata": {
        "id": "BFI5WrJWmhUA"
      },
      "execution_count": null,
      "outputs": []
    },
    {
      "cell_type": "markdown",
      "source": [
        "## Feed Title to Keras Tokeniser"
      ],
      "metadata": {
        "id": "EQeVJ-EKmida"
      }
    },
    {
      "cell_type": "code",
      "source": [
        "max_vocab_title = 15000\n",
        "\n",
        "tokenizer_title = Tokenizer(num_words = max_vocab_title)\n",
        "tokenizer_title.fit_on_texts(X_train_title)\n",
        "\n",
        "dictionary_title = tokenizer_title.word_index"
      ],
      "metadata": {
        "id": "ZhzYNenpmqYM"
      },
      "execution_count": null,
      "outputs": []
    },
    {
      "cell_type": "markdown",
      "source": [
        "## Convert Text to Word Sequence"
      ],
      "metadata": {
        "id": "X0q5WjhUm1dz"
      }
    },
    {
      "cell_type": "code",
      "source": [
        "def convert_text_to_index_array_title(text):\n",
        "    return [dictionary_title[word] for word in kpt.text_to_word_sequence(text)]\n",
        "\n",
        "allWordIndices_title = []\n",
        "\n",
        "for text_title in X_train_title:\n",
        "    wordIndices_title = convert_text_to_index_array_title(text_title)\n",
        "    allWordIndices_title.append(wordIndices_title)"
      ],
      "metadata": {
        "id": "yh7LELv6nChk"
      },
      "execution_count": null,
      "outputs": []
    },
    {
      "cell_type": "markdown",
      "source": [
        "## Cast Word Indices in Numpy Array"
      ],
      "metadata": {
        "id": "vm17c1lunTFQ"
      }
    },
    {
      "cell_type": "code",
      "source": [
        "allWordIndices_title = np.asarray(allWordIndices_title)"
      ],
      "metadata": {
        "id": "rfq5RoGinWuI",
        "colab": {
          "base_uri": "https://localhost:8080/"
        },
        "outputId": "e7fbfb48-a433-4340-e80d-4695a71343a1"
      },
      "execution_count": null,
      "outputs": [
        {
          "output_type": "stream",
          "name": "stderr",
          "text": [
            "<ipython-input-52-394ac6a7f402>:1: VisibleDeprecationWarning: Creating an ndarray from ragged nested sequences (which is a list-or-tuple of lists-or-tuples-or ndarrays with different lengths or shapes) is deprecated. If you meant to do this, you must specify 'dtype=object' when creating the ndarray.\n",
            "  allWordIndices_title = np.asarray(allWordIndices_title)\n"
          ]
        }
      ]
    },
    {
      "cell_type": "markdown",
      "source": [
        "## Creating One-Hot Matrices from Word Indices"
      ],
      "metadata": {
        "id": "XvQU7fhTnhWG"
      }
    },
    {
      "cell_type": "code",
      "source": [
        "train_title_x = tokenizer_title.sequences_to_matrix(allWordIndices_title, mode='binary')"
      ],
      "metadata": {
        "id": "bra_AtIpno-i"
      },
      "execution_count": null,
      "outputs": []
    },
    {
      "cell_type": "markdown",
      "source": [
        "## Making Output Categorical"
      ],
      "metadata": {
        "id": "CEkpBOXPnsC5"
      }
    },
    {
      "cell_type": "code",
      "source": [
        "train_title_y = tf.keras.utils.to_categorical(y_train_title, 2)"
      ],
      "metadata": {
        "id": "oMAhdRP7nuXx"
      },
      "execution_count": null,
      "outputs": []
    },
    {
      "cell_type": "markdown",
      "source": [
        "## Training Neural Network"
      ],
      "metadata": {
        "id": "zFC1arglnw2V"
      }
    },
    {
      "cell_type": "code",
      "source": [
        "model_title = tf.keras.Sequential()\n",
        "\n",
        "model_title.add(tf.keras.layers.Dense(64, input_shape=(max_vocab_title,), activation = 'relu'))\n",
        "model_title.add(tf.keras.layers.Dropout(0.2))\n",
        "model_title.add(tf.keras.layers.Dense(16,activation='relu'))\n",
        "model_title.add(tf.keras.layers.Dropout(0.2))\n",
        "model_title.add(tf.keras.layers.Dense(2,activation='relu'))\n",
        "model_title.add(tf.keras.layers.Activation('sigmoid'))\n",
        "\n",
        "model_title.compile(optimizer = 'adam', loss = 'binary_crossentropy', metrics = ['accuracy', 'Recall', tf.keras.metrics.Precision()])\n",
        "\n",
        "batch_size = 500\n",
        "max_epochs = 10\n",
        "early_stopping = tf.keras.callbacks.EarlyStopping(patience=2)\n",
        "\n",
        "model_title.fit(train_title_x, train_title_y, batch_size = batch_size, epochs = max_epochs, callbacks=[early_stopping], validation_split = 0.2 , shuffle=True, verbose=1)"
      ],
      "metadata": {
        "colab": {
          "base_uri": "https://localhost:8080/"
        },
        "id": "7d-d4LTvn341",
        "outputId": "158b57b0-cff3-4d3f-8285-903131ebdd20"
      },
      "execution_count": null,
      "outputs": [
        {
          "output_type": "stream",
          "name": "stdout",
          "text": [
            "Epoch 1/10\n",
            "14/14 [==============================] - 3s 149ms/step - loss: 0.6911 - accuracy: 0.5567 - recall: 0.6468 - precision_1: 0.5486 - val_loss: 0.6857 - val_accuracy: 0.6277 - val_recall: 0.9068 - val_precision_1: 0.5692\n",
            "Epoch 2/10\n",
            "14/14 [==============================] - 2s 134ms/step - loss: 0.6732 - accuracy: 0.7498 - recall: 0.9438 - precision_1: 0.6165 - val_loss: 0.6679 - val_accuracy: 0.7203 - val_recall: 0.9659 - val_precision_1: 0.5901\n",
            "Epoch 3/10\n",
            "14/14 [==============================] - 3s 183ms/step - loss: 0.6389 - accuracy: 0.8322 - recall: 0.9774 - precision_1: 0.6603 - val_loss: 0.6420 - val_accuracy: 0.7441 - val_recall: 0.9628 - val_precision_1: 0.6115\n",
            "Epoch 4/10\n",
            "14/14 [==============================] - 1s 95ms/step - loss: 0.5924 - accuracy: 0.8862 - recall: 0.9802 - precision_1: 0.7026 - val_loss: 0.6158 - val_accuracy: 0.7623 - val_recall: 0.9470 - val_precision_1: 0.6392\n",
            "Epoch 5/10\n",
            "14/14 [==============================] - 2s 174ms/step - loss: 0.5449 - accuracy: 0.9124 - recall: 0.9820 - precision_1: 0.7469 - val_loss: 0.5997 - val_accuracy: 0.7703 - val_recall: 0.9317 - val_precision_1: 0.6591\n",
            "Epoch 6/10\n",
            "14/14 [==============================] - 3s 193ms/step - loss: 0.5005 - accuracy: 0.9390 - recall: 0.9854 - precision_1: 0.7971 - val_loss: 0.5903 - val_accuracy: 0.7751 - val_recall: 0.9238 - val_precision_1: 0.6738\n",
            "Epoch 7/10\n",
            "14/14 [==============================] - 2s 166ms/step - loss: 0.4661 - accuracy: 0.9561 - recall: 0.9883 - precision_1: 0.8323 - val_loss: 0.5918 - val_accuracy: 0.7727 - val_recall: 0.9055 - val_precision_1: 0.6867\n",
            "Epoch 8/10\n",
            "14/14 [==============================] - 3s 180ms/step - loss: 0.4394 - accuracy: 0.9694 - recall: 0.9901 - precision_1: 0.8736 - val_loss: 0.5980 - val_accuracy: 0.7684 - val_recall: 0.8958 - val_precision_1: 0.6924\n"
          ]
        },
        {
          "output_type": "execute_result",
          "data": {
            "text/plain": [
              "<keras.src.callbacks.History at 0x7e5553916080>"
            ]
          },
          "metadata": {},
          "execution_count": 55
        }
      ]
    },
    {
      "cell_type": "markdown",
      "source": [
        "## Convert Test Data to same format as Training data"
      ],
      "metadata": {
        "id": "cTmErhIzoGO3"
      }
    },
    {
      "cell_type": "code",
      "source": [
        "# create another Tokenizer for model testing\n",
        "tokenizer_test_title = Tokenizer(num_words = max_vocab_title)\n",
        "\n",
        "# Register words in dictionary\n",
        "def convert_text_to_index_array_title_test(text):\n",
        "    words = kpt.text_to_word_sequence(text)\n",
        "    wordIndices = []\n",
        "    for word in words:\n",
        "        if word in dictionary_title:\n",
        "            wordIndices.append(dictionary_title[word])\n",
        "    return wordIndices\n",
        "\n",
        "allWordIndices_test_title = []\n",
        "\n",
        "for text_test in X_test_title:\n",
        "    wordIndices_test = convert_text_to_index_array_title_test(text_test)\n",
        "    allWordIndices_test_title.append(wordIndices_test)\n",
        "\n",
        "# create one-hot matrices out of the indexed train_title_input\n",
        "test_title_x = tokenizer_test_title.sequences_to_matrix(allWordIndices_test_title, mode='binary')\n",
        "\n",
        "# treat the labels as categories\n",
        "test_title_y = tf.keras.utils.to_categorical(y_test_title, 2)\n",
        "print(y_test_title)"
      ],
      "metadata": {
        "id": "o4BCyh6in3xY",
        "colab": {
          "base_uri": "https://localhost:8080/"
        },
        "outputId": "06f5c2af-ad9a-4600-86de-1bb0ba503815"
      },
      "execution_count": null,
      "outputs": [
        {
          "output_type": "stream",
          "name": "stdout",
          "text": [
            "[0 1 1 ... 0 0 0]\n"
          ]
        }
      ]
    },
    {
      "cell_type": "markdown",
      "source": [
        "## Run Model on Test Set"
      ],
      "metadata": {
        "id": "b-Lh91K-pXPA"
      }
    },
    {
      "cell_type": "code",
      "source": [
        "NN3_loss, NN3_accuracy, NN3_recall, NN3_precision = model_title.evaluate(test_title_x, test_title_y)\n",
        "NN3_F1 = (2 * NN3_precision * NN3_recall) / (NN3_precision + NN3_recall)"
      ],
      "metadata": {
        "colab": {
          "base_uri": "https://localhost:8080/"
        },
        "id": "U6a3tY5hp1JB",
        "outputId": "b8e64f17-16ad-4804-f2dd-4f63c11cc4ad"
      },
      "execution_count": null,
      "outputs": [
        {
          "output_type": "stream",
          "name": "stdout",
          "text": [
            "65/65 [==============================] - 1s 10ms/step - loss: 0.5816 - accuracy: 0.7899 - recall: 0.9171 - precision_1: 0.7053\n"
          ]
        }
      ]
    },
    {
      "cell_type": "markdown",
      "source": [
        "## Evaluation Metrics"
      ],
      "metadata": {
        "id": "w4TMQMnpp5_p"
      }
    },
    {
      "cell_type": "code",
      "source": [
        "print('Model Accuracy = %.2f' % (NN3_accuracy*100))\n",
        "print('Model Recall = %.2f' % (NN3_recall*100))\n",
        "print('Model Precision = %.2f' % (NN3_precision*100))\n",
        "print('Model F1 Measure = %.2f' % (NN3_F1*100))"
      ],
      "metadata": {
        "colab": {
          "base_uri": "https://localhost:8080/"
        },
        "id": "q-6zbaE1p8OV",
        "outputId": "011a4ac3-c9c6-4010-a89a-d250a3dd2536"
      },
      "execution_count": null,
      "outputs": [
        {
          "output_type": "stream",
          "name": "stdout",
          "text": [
            "Model Accuracy = 78.99\n",
            "Model Recall = 91.71\n",
            "Model Precision = 70.53\n",
            "Model F1 Measure = 79.74\n"
          ]
        }
      ]
    },
    {
      "cell_type": "markdown",
      "source": [
        "## Create Confusion Matrix"
      ],
      "metadata": {
        "id": "v88MTF6wvCbS"
      }
    },
    {
      "cell_type": "code",
      "source": [
        "y_pred = model_title.predict(test_title_x)\n",
        "y_pred_new = []\n",
        "for i in y_pred:\n",
        "  if i[0]>i[1]:\n",
        "    y_pred_new.append(0)\n",
        "  else:\n",
        "    y_pred_new.append(1)\n",
        "\n",
        "confusion_matrix = sklearn.metrics.confusion_matrix(y_test_title, np.rint(y_pred_new))\n",
        "\n",
        "ax = sns.heatmap(confusion_matrix, annot=True, cmap='Blues', fmt=\".0f\")\n",
        "\n",
        "ax.set_title('Confusion Matrix for Sequence Vectorisation on Title\\n');\n",
        "ax.set_xlabel('\\nPredicted Values')\n",
        "ax.set_ylabel('Actual Values ');\n",
        "\n",
        "## Ticket labels - List must be in alphabetical order\n",
        "ax.xaxis.set_ticklabels(['False','True'])\n",
        "ax.yaxis.set_ticklabels(['False','True'])\n",
        "\n",
        "## Display the visualization of the Confusion Matrix.\n",
        "plt.show()"
      ],
      "metadata": {
        "colab": {
          "base_uri": "https://localhost:8080/",
          "height": 526
        },
        "id": "GUCyq_5kvFa-",
        "outputId": "dedd4b77-3881-4595-d496-e59dd9605bdc"
      },
      "execution_count": null,
      "outputs": [
        {
          "output_type": "stream",
          "name": "stdout",
          "text": [
            "65/65 [==============================] - 1s 8ms/step\n"
          ]
        },
        {
          "output_type": "display_data",
          "data": {
            "text/plain": [
              "<Figure size 640x480 with 2 Axes>"
            ],
            "image/png": "[encoded data removed]"
          },
          "metadata": {}
        }
      ]
    },
    {
      "cell_type": "markdown",
      "source": [
        "# 7. Neural Network 4 - Sequence Vectorisation on Body"
      ],
      "metadata": {
        "id": "BKYKP3fpqLgj"
      }
    },
    {
      "cell_type": "markdown",
      "source": [
        "## Loading Body Data"
      ],
      "metadata": {
        "id": "q5F-aW5QqSz6"
      }
    },
    {
      "cell_type": "code",
      "source": [
        "data = np.load('Body_data.npz')\n",
        "content_data = data['data']\n",
        "\n",
        "output = [int(row[1]) for row in content_data]\n",
        "output = np.array(output)"
      ],
      "metadata": {
        "id": "6xg_jBEuqdMF"
      },
      "execution_count": null,
      "outputs": []
    },
    {
      "cell_type": "markdown",
      "source": [
        "## Text Preprocessing"
      ],
      "metadata": {
        "id": "3aJepFayqVd5"
      }
    },
    {
      "cell_type": "markdown",
      "source": [
        "1. Remove Special Characters using Regular Expressions\n",
        "2. Tokenize text\n",
        "3. Word Normalization (Lemmatization)\n",
        "4. Remove Stopwords"
      ],
      "metadata": {
        "id": "wTMmUKNIqqbg"
      }
    },
    {
      "cell_type": "code",
      "source": [
        "stopword = stopwords.words('english')\n",
        "lemmatizer = WordNetLemmatizer()\n",
        "\n",
        "cleaned_content = []\n",
        "\n",
        "for i in range(len(content_data)):\n",
        "    content_sentence = re.sub('[^A-Za-z0-9 ]+', '', content_data[i][0])\n",
        "    content_tokens = nltk.word_tokenize(content_sentence)\n",
        "    content_lemmatized_word = [lemmatizer.lemmatize(word) for word in content_tokens]\n",
        "    content_removed_stopwords = [word for word in content_lemmatized_word if word not in stopword]\n",
        "    cleaned_content.append(\" \".join(word.lower() for word in content_removed_stopwords))\n",
        "\n",
        "cleaned_content = np.asarray(cleaned_content,dtype=object)"
      ],
      "metadata": {
        "id": "be-sx93Uqq4m"
      },
      "execution_count": null,
      "outputs": []
    },
    {
      "cell_type": "markdown",
      "source": [
        "## Split Train Test Data"
      ],
      "metadata": {
        "id": "u8JzPK3jqXs4"
      }
    },
    {
      "cell_type": "code",
      "source": [
        "X_train_content, X_test_content, y_train_content, y_test_content = train_test_split(cleaned_content, output, test_size = 0.2, random_state = 1)"
      ],
      "metadata": {
        "id": "PqMC0xvaxKp0"
      },
      "execution_count": null,
      "outputs": []
    },
    {
      "cell_type": "markdown",
      "source": [
        "## Feed Content to Keras Tokeniser"
      ],
      "metadata": {
        "id": "lHvr0qVKxjXV"
      }
    },
    {
      "cell_type": "code",
      "source": [
        "max_vocab_content = 30000\n",
        "\n",
        "tokenizer_content = Tokenizer(num_words = max_vocab_content)\n",
        "tokenizer_content.fit_on_texts(X_train_content)\n",
        "\n",
        "dictionary_content = tokenizer_content.word_index"
      ],
      "metadata": {
        "id": "Mwr-iOoOxKmt"
      },
      "execution_count": null,
      "outputs": []
    },
    {
      "cell_type": "markdown",
      "source": [
        "## Convert Text to Word Sequence"
      ],
      "metadata": {
        "id": "5JOMcKTLxp5A"
      }
    },
    {
      "cell_type": "code",
      "source": [
        "def convert_text_to_index_array_content(text):\n",
        "    return [dictionary_content[word] for word in kpt.text_to_word_sequence(text)]\n",
        "\n",
        "allWordIndices_content = []\n",
        "\n",
        "for text_content in X_train_content:\n",
        "    wordIndices_content = convert_text_to_index_array_content(text_content)\n",
        "    allWordIndices_content.append(wordIndices_content)"
      ],
      "metadata": {
        "id": "9L4sQvNmxypn"
      },
      "execution_count": null,
      "outputs": []
    },
    {
      "cell_type": "markdown",
      "source": [
        "## Store Word Indices into Numpy Array"
      ],
      "metadata": {
        "id": "bhheTeAzx4TS"
      }
    },
    {
      "cell_type": "code",
      "source": [
        "allWordIndices_content = np.asarray(allWordIndices_content, dtype=\"object\")"
      ],
      "metadata": {
        "id": "Zgg7k1tCx-7o"
      },
      "execution_count": null,
      "outputs": []
    },
    {
      "cell_type": "markdown",
      "source": [
        "## Create One Hot Matrices from Word Indices"
      ],
      "metadata": {
        "id": "USeWKNctyCm0"
      }
    },
    {
      "cell_type": "code",
      "source": [
        "train_content_x = tokenizer_content.sequences_to_matrix(allWordIndices_content, mode='binary')"
      ],
      "metadata": {
        "id": "6xSLR4T6ydIF"
      },
      "execution_count": null,
      "outputs": []
    },
    {
      "cell_type": "markdown",
      "source": [
        "## Make Output Categorical"
      ],
      "metadata": {
        "id": "3zuPzGql1FUP"
      }
    },
    {
      "cell_type": "code",
      "source": [
        "train_content_y = tf.keras.utils.to_categorical(y_train_content, 2)"
      ],
      "metadata": {
        "id": "IS2liRcg1IN8"
      },
      "execution_count": null,
      "outputs": []
    },
    {
      "cell_type": "markdown",
      "source": [
        "## Training the Neural Network"
      ],
      "metadata": {
        "id": "-g1y5rXf1LvB"
      }
    },
    {
      "cell_type": "code",
      "source": [
        "model_content = tf.keras.Sequential()\n",
        "\n",
        "model_content.add(tf.keras.layers.Dense(64, input_shape=(max_vocab_content,), activation = 'relu'))\n",
        "model_content.add(tf.keras.layers.Dropout(0.2))\n",
        "model_content.add(tf.keras.layers.Dense(16,activation='relu'))\n",
        "model_content.add(tf.keras.layers.Dropout(0.2))\n",
        "model_content.add(tf.keras.layers.Dense(2,activation='relu'))\n",
        "model_content.add(tf.keras.layers.Activation('sigmoid'))\n",
        "\n",
        "model_content.compile(optimizer = 'adam', loss = 'binary_crossentropy', metrics = ['accuracy', 'Recall', tf.keras.metrics.Precision()])\n",
        "\n",
        "batch_size = 500\n",
        "max_epochs = 10\n",
        "early_stopping = tf.keras.callbacks.EarlyStopping(patience=2)\n",
        "\n",
        "model_content.fit(train_content_x, train_content_y, batch_size = batch_size, epochs = max_epochs, callbacks=[early_stopping], validation_split = 0.2 , shuffle=True, verbose=1)"
      ],
      "metadata": {
        "id": "TQfB267V1QT8",
        "colab": {
          "base_uri": "https://localhost:8080/"
        },
        "outputId": "b2faaf12-8ce3-402b-ffe9-00b29d6f737e"
      },
      "execution_count": null,
      "outputs": [
        {
          "output_type": "stream",
          "name": "stdout",
          "text": [
            "Epoch 1/10\n",
            "14/14 [==============================] - 6s 292ms/step - loss: 0.6566 - accuracy: 0.6941 - recall: 0.8045 - precision: 0.6179 - val_loss: 0.5844 - val_accuracy: 0.8470 - val_recall: 0.8976 - val_precision: 0.7839\n",
            "Epoch 2/10\n",
            "14/14 [==============================] - 4s 279ms/step - loss: 0.5457 - accuracy: 0.8900 - recall: 0.9365 - precision: 0.7644 - val_loss: 0.5208 - val_accuracy: 0.8915 - val_recall: 0.9281 - val_precision: 0.8250\n",
            "Epoch 3/10\n",
            "14/14 [==============================] - 3s 185ms/step - loss: 0.4785 - accuracy: 0.9433 - recall: 0.9744 - precision: 0.8110 - val_loss: 0.4824 - val_accuracy: 0.9110 - val_recall: 0.9580 - val_precision: 0.8402\n",
            "Epoch 4/10\n",
            "14/14 [==============================] - 3s 184ms/step - loss: 0.4339 - accuracy: 0.9710 - recall: 0.9860 - precision: 0.8518 - val_loss: 0.4658 - val_accuracy: 0.9159 - val_recall: 0.9555 - val_precision: 0.8639\n",
            "Epoch 5/10\n",
            "14/14 [==============================] - 3s 184ms/step - loss: 0.4050 - accuracy: 0.9842 - recall: 0.9916 - precision: 0.8902 - val_loss: 0.4650 - val_accuracy: 0.9159 - val_recall: 0.9580 - val_precision: 0.8642\n",
            "Epoch 6/10\n",
            "14/14 [==============================] - 3s 214ms/step - loss: 0.3870 - accuracy: 0.9895 - recall: 0.9936 - precision: 0.9105 - val_loss: 0.4623 - val_accuracy: 0.9122 - val_recall: 0.9476 - val_precision: 0.8766\n",
            "Epoch 7/10\n",
            "14/14 [==============================] - 4s 293ms/step - loss: 0.3750 - accuracy: 0.9934 - recall: 0.9956 - precision: 0.9416 - val_loss: 0.4752 - val_accuracy: 0.9104 - val_recall: 0.9488 - val_precision: 0.8718\n",
            "Epoch 8/10\n",
            "14/14 [==============================] - 2s 157ms/step - loss: 0.3690 - accuracy: 0.9945 - recall: 0.9956 - precision: 0.9602 - val_loss: 0.4718 - val_accuracy: 0.9135 - val_recall: 0.9470 - val_precision: 0.8765\n"
          ]
        },
        {
          "output_type": "execute_result",
          "data": {
            "text/plain": [
              "<keras.src.callbacks.History at 0x7ae3716d8d00>"
            ]
          },
          "metadata": {},
          "execution_count": 19
        }
      ]
    },
    {
      "cell_type": "markdown",
      "source": [
        "## Convert Test Data to same Format as Training Data"
      ],
      "metadata": {
        "id": "n4v2BIf38DUl"
      }
    },
    {
      "cell_type": "code",
      "source": [
        "# create another Tokenizer for model testing\n",
        "tokenizer_test_content = Tokenizer(num_words = max_vocab_content)\n",
        "\n",
        "# this utility makes sure that all the words in your input\n",
        "# are registered in the dictionary\n",
        "# before trying to turn them into a matrix.\n",
        "def convert_text_to_index_array_content_test(text):\n",
        "    words = kpt.text_to_word_sequence(text)\n",
        "    wordIndices = []\n",
        "    for word in words:\n",
        "        if word in dictionary_content:\n",
        "            wordIndices.append(dictionary_content[word])\n",
        "    return wordIndices\n",
        "\n",
        "allWordIndices_test_content = []\n",
        "\n",
        "for text_test in X_test_content:\n",
        "    wordIndices_test = convert_text_to_index_array_content_test(text_test)\n",
        "    allWordIndices_test_content.append(wordIndices_test)\n",
        "\n",
        "# create one-hot matrices out of the indexed train_content_input\n",
        "test_content_x = tokenizer_test_content.sequences_to_matrix(allWordIndices_test_content, mode='binary')\n",
        "\n",
        "# treat the labels as categories\n",
        "test_content_y = tf.keras.utils.to_categorical(y_test_content, 2)"
      ],
      "metadata": {
        "id": "vRwl_1Xn8Igq"
      },
      "execution_count": null,
      "outputs": []
    },
    {
      "cell_type": "markdown",
      "source": [
        "## Run Model on Test Data"
      ],
      "metadata": {
        "id": "fuwZ_Rbx8INv"
      }
    },
    {
      "cell_type": "code",
      "source": [
        "NN4_loss, NN4_accuracy, NN4_recall, NN4_precision = model_content.evaluate(test_content_x, test_content_y)\n",
        "NN4_F1 = (2 * NN4_precision * NN4_recall) / (NN4_precision + NN4_recall)"
      ],
      "metadata": {
        "id": "7EeWXIrf9LAT",
        "colab": {
          "base_uri": "https://localhost:8080/"
        },
        "outputId": "2d34fb9b-48dc-4448-8abf-765861c1b1f1"
      },
      "execution_count": null,
      "outputs": [
        {
          "output_type": "stream",
          "name": "stdout",
          "text": [
            "65/65 [==============================] - 1s 19ms/step - loss: 0.4681 - accuracy: 0.9230 - recall: 0.9517 - precision: 0.8865\n"
          ]
        }
      ]
    },
    {
      "cell_type": "markdown",
      "source": [
        "## Evaluation Metrics"
      ],
      "metadata": {
        "id": "NVslVnhU9OK7"
      }
    },
    {
      "cell_type": "code",
      "source": [
        "print('Model Accuracy = %.2f' % (NN4_accuracy*100))\n",
        "print('Model Recall = %.2f' % (NN4_recall*100))\n",
        "print('Model Precision = %.2f' % (NN4_precision*100))\n",
        "print('Model F1 Measure = %.2f' % (NN4_F1*100))"
      ],
      "metadata": {
        "id": "5HEZyMe09TDS",
        "colab": {
          "base_uri": "https://localhost:8080/"
        },
        "outputId": "d2a57447-4fe2-46f3-eb71-2e5dfce5ce60"
      },
      "execution_count": null,
      "outputs": [
        {
          "output_type": "stream",
          "name": "stdout",
          "text": [
            "Model Accuracy = 92.30\n",
            "Model Recall = 95.17\n",
            "Model Precision = 88.65\n",
            "Model F1 Measure = 91.79\n"
          ]
        }
      ]
    },
    {
      "cell_type": "markdown",
      "source": [
        "## Create Confusion Matrix"
      ],
      "metadata": {
        "id": "u9zqEJIgzsCD"
      }
    },
    {
      "cell_type": "code",
      "source": [
        "y_pred = model_content.predict(test_content_x)\n",
        "y_pred_new = []\n",
        "for i in y_pred:\n",
        "  if i[0]>i[1]:\n",
        "    y_pred_new.append(0)\n",
        "  else:\n",
        "    y_pred_new.append(1)\n",
        "\n",
        "confusion_matrix = sklearn.metrics.confusion_matrix(y_test_content, np.rint(y_pred_new))\n",
        "\n",
        "ax = sns.heatmap(confusion_matrix, annot=True, cmap='Blues', fmt=\".0f\")\n",
        "\n",
        "ax.set_title('Confusion Matrix for Sequence Vectorisation on Content\\n');\n",
        "ax.set_xlabel('\\nPredicted Values')\n",
        "ax.set_ylabel('Actual Values ');\n",
        "\n",
        "## Ticket labels - List must be in alphabetical order\n",
        "ax.xaxis.set_ticklabels(['False','True'])\n",
        "ax.yaxis.set_ticklabels(['False','True'])\n",
        "\n",
        "## Display the visualization of the Confusion Matrix.\n",
        "plt.show()"
      ],
      "metadata": {
        "colab": {
          "base_uri": "https://localhost:8080/",
          "height": 526
        },
        "id": "KPR6OMdgzt1s",
        "outputId": "0d57aa2a-6787-4ed3-a1ac-9e79a790040c"
      },
      "execution_count": null,
      "outputs": [
        {
          "output_type": "stream",
          "name": "stdout",
          "text": [
            "65/65 [==============================] - 1s 10ms/step\n"
          ]
        },
        {
          "output_type": "display_data",
          "data": {
            "text/plain": [
              "<Figure size 640x480 with 2 Axes>"
            ],
            "image/png": "[encoded data removed]"
          },
          "metadata": {}
        }
      ]
    },
    {
      "cell_type": "markdown",
      "source": [
        "# 8. Comparison"
      ],
      "metadata": {
        "id": "pwi3xTPS4R4K"
      }
    },
    {
      "cell_type": "code",
      "source": [
        "# Labels for the metrics\n",
        "labels = ['Accuracy', 'Precision', 'Recall', 'F1-Measure']\n",
        "\n",
        "# Values for each model\n",
        "model1_values = [78.30, 71.81, 88.46, 79.27]\n",
        "model2_values = [91.42, 87.01, 96.05, 91.3]\n",
        "model3_values = [78.99, 70.53, 91.71, 79.74]\n",
        "model4_values = [92.3, 88.65, 95.17, 91.79]\n",
        "\n",
        "# Bar width\n",
        "bar_width = 0.2\n",
        "\n",
        "# Set the positions of the bars on the x-axis\n",
        "r1 = np.arange(len(labels))\n",
        "r2 = [x + bar_width for x in r1]\n",
        "r3 = [x + bar_width for x in r2]\n",
        "r4 = [x + bar_width for x in r3]\n",
        "\n",
        "plt.figure(figsize=(12, 7))\n",
        "\n",
        "# Create the bar graph\n",
        "plt.bar(r1, model1_values, color='b', width=bar_width, edgecolor='grey', label='N-Gram Title')\n",
        "plt.bar(r2, model2_values, color='r', width=bar_width, edgecolor='grey', label='N-Gram Content')\n",
        "plt.bar(r3, model3_values, color='g', width=bar_width, edgecolor='grey', label='Sequence Vector Title')\n",
        "plt.bar(r4, model4_values, color='purple', width=bar_width, edgecolor='grey', label='Sequence Vector Title')\n",
        "\n",
        "# Add labels and title\n",
        "plt.xlabel('Metrics', fontweight='bold')\n",
        "plt.xticks([r + bar_width for r in range(len(labels))], labels)\n",
        "plt.title('Comparison of Model Metrics')\n",
        "\n",
        "# Add legend\n",
        "plt.legend()\n",
        "\n",
        "# Show the plot\n",
        "plt.show()"
      ],
      "metadata": {
        "colab": {
          "base_uri": "https://localhost:8080/",
          "height": 641
        },
        "id": "At9LMcUR4Ya6",
        "outputId": "01940fc0-584f-4cb6-a49b-7a2366da662c"
      },
      "execution_count": null,
      "outputs": [
        {
          "output_type": "display_data",
          "data": {
            "text/plain": [
              "<Figure size 1200x700 with 1 Axes>"
            ],
            "image/png": "[encoded data removed]"
          },
          "metadata": {}
        }
      ]
    }
  ]
}